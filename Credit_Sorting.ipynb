{
  "nbformat": 4,
  "nbformat_minor": 0,
  "metadata": {
    "colab": {
      "provenance": []
    },
    "kernelspec": {
      "name": "python3",
      "display_name": "Python 3"
    },
    "language_info": {
      "name": "python"
    }
  },
  "cells": [
    {
      "cell_type": "code",
      "source": [
        "import pandas as pd\n",
        "from sklearn.model_selection import train_test_split\n",
        "from sklearn.preprocessing import StandardScaler, OneHotEncoder\n",
        "from sklearn.compose import ColumnTransformer\n",
        "from sklearn.pipeline import Pipeline\n",
        "from sklearn.ensemble import RandomForestRegressor\n",
        "from sklearn.metrics import mean_squared_error\n",
        "import joblib\n",
        "\n",
        "dataset_path = '/content/Updated_Credit_Score_Classification_Dataset.csv'\n",
        "df = pd.read_csv(dataset_path)\n",
        "\n",
        "# Preprocessing\n",
        "categorical_features = ['Gender', 'Education', 'Marital Status', 'Home Ownership']\n",
        "numeric_features = ['Age', 'Income', 'Number of Children']\n",
        "categorical_transformer = OneHotEncoder(handle_unknown='ignore')\n",
        "preprocessor = ColumnTransformer(\n",
        "    transformers=[\n",
        "        ('num', StandardScaler(), numeric_features),\n",
        "        ('cat', categorical_transformer, categorical_features)\n",
        "    ])\n",
        "\n",
        "# Define the target and features\n",
        "X = df.drop('Final Credit Score', axis=1)\n",
        "y = df['Final Credit Score']\n",
        "\n",
        "X_train, X_test, y_train, y_test = train_test_split(X, y, test_size=0.2, random_state=42)\n",
        "\n",
        "# Create a pipeline that preprocesses the data and then applies the RandomForestRegressor\n",
        "model = Pipeline(steps=[('preprocessor', preprocessor),\n",
        "                        ('regressor', RandomForestRegressor(n_estimators=100, random_state=42))])\n",
        "# Training the model\n",
        "model.fit(X_train, y_train)\n",
        "\n",
        "# Saving the model to disk\n",
        "joblib.dump(model, 'credit_score_model.pkl')"
      ],
      "metadata": {
        "colab": {
          "base_uri": "https://localhost:8080/"
        },
        "id": "4rZDGVt9c8ZA",
        "outputId": "b211935f-e1ba-4c47-c762-b185f576cc93"
      },
      "execution_count": 4,
      "outputs": [
        {
          "output_type": "execute_result",
          "data": {
            "text/plain": [
              "['credit_score_model.pkl']"
            ]
          },
          "metadata": {},
          "execution_count": 4
        }
      ]
    },
    {
      "cell_type": "code",
      "source": [
        "# Load the saved model\n",
        "model = joblib.load('credit_score_model.pkl')\n",
        "\n",
        "data = {\n",
        "    'Age': [35],\n",
        "    'Gender': ['Male'],\n",
        "    'Income': [50000],\n",
        "    'Education': [\"Bachelor's Degree\"],\n",
        "    'Marital Status': ['Married'],\n",
        "    'Number of Children': [2],\n",
        "    'Home Ownership': ['Owned']\n",
        "}\n",
        "\n",
        "input_data = pd.DataFrame(data)\n",
        "predicted_score = model.predict(input_data)\n",
        "print(\"Predicted Credit Score:\", predicted_score[0])"
      ],
      "metadata": {
        "colab": {
          "base_uri": "https://localhost:8080/"
        },
        "id": "0CqC7Y5snO6W",
        "outputId": "1dda1d17-1317-457e-e8a2-8228c6bc2ab7"
      },
      "execution_count": 5,
      "outputs": [
        {
          "output_type": "stream",
          "name": "stdout",
          "text": [
            "Predicted Credit Score: 652.6410120948237\n"
          ]
        }
      ]
    }
  ]
}